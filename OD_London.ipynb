{
 "cells": [
  {
   "cell_type": "code",
   "execution_count": 2,
   "metadata": {
    "collapsed": true
   },
   "outputs": [],
   "source": [
    "import requests\n",
    "from lxml import etree\n",
    "import xml.etree.ElementTree as ET"
   ]
  },
  {
   "cell_type": "markdown",
   "metadata": {},
   "source": [
    "#1. Acceder a la página de datos abiertos de TfL y descargar ambos datasets a través de API."
   ]
  },
  {
   "cell_type": "code",
   "execution_count": 3,
   "metadata": {
    "collapsed": true
   },
   "outputs": [],
   "source": [
    "stations = requests.get(\"https://data.tfl.gov.uk/tfl/syndication/feeds/stations-facilities.xml?app_id=3c300fe8&app_key=4c8ac4128a27f1ba7b3e8bce8e099cc4\")\n",
    "step_free = requests.get(\"https://tfl.gov.uk/tfl/syndication/feeds/step-free-tube-guide.xml\")"
   ]
  },
  {
   "cell_type": "code",
   "execution_count": 4,
   "metadata": {
    "collapsed": true
   },
   "outputs": [],
   "source": [
    "stations.encoding='UTF-8'\n",
    "with open('StationFacilities.xml', 'w') as f:\n",
    "    f.write(stations.text)"
   ]
  },
  {
   "cell_type": "code",
   "execution_count": 5,
   "metadata": {
    "collapsed": true
   },
   "outputs": [],
   "source": [
    "step_free.encoding='UTF-8'\n",
    "with open('StepFreeTube.xml', 'w') as f:\n",
    "    f.write(step_free.text)"
   ]
  },
  {
   "cell_type": "markdown",
   "metadata": {},
   "source": [
    "#2. Generar un fichero similar a a), denominado StationFacilitiesNOH, donde no se incorpore la información asociada a las etiquetas <openingHours>xxxx</openingHours>, ni las propias etiquetas.\n"
   ]
  },
  {
   "cell_type": "code",
   "execution_count": null,
   "metadata": {
    "collapsed": true
   },
   "outputs": [],
   "source": [
    "doc=etree.parse('StationFacilities.xml')#Importo Station facilities\n",
    "for elem in doc.xpath('.//openingHours'):\n",
    "   parent = elem.getparent()\n",
    "   parent.remove(elem)\n",
    "   print(etree.tostring(doc))\n",
    "   doc.write('StationFacilities_NOH.xml')\n"
   ]
  },
  {
   "cell_type": "markdown",
   "metadata": {},
   "source": [
    "#3. Generar un fichero similar a b), denominado StepFreeTubeNNone, que no debe incorporar la información asociada a las etiquetas <AccessibilityType>None</AccessibilityType> (ni las propias etiquetas) cuando el contenido sea None.\n"
   ]
  },
  {
   "cell_type": "code",
   "execution_count": 7,
   "metadata": {
    "collapsed": true
   },
   "outputs": [],
   "source": [
    "doc2 = etree.parse('StepFreeTube.xml') "
   ]
  },
  {
   "cell_type": "code",
   "execution_count": 21,
   "metadata": {},
   "outputs": [],
   "source": [
    "for elem in doc2.xpath(\"//*[text()='None']\"):\n",
    "    parent = elem.getparent()\n",
    "    parent.remove(elem)\n",
    "    doc2.write('StepFreeTubeNNone.xml')"
   ]
  }
 ],
 "metadata": {
  "anaconda-cloud": {},
  "kernelspec": {
   "display_name": "Python 3",
   "language": "python",
   "name": "python3"
  },
  "language_info": {
   "codemirror_mode": {
    "name": "ipython",
    "version": 3
   },
   "file_extension": ".py",
   "mimetype": "text/x-python",
   "name": "python",
   "nbconvert_exporter": "python",
   "pygments_lexer": "ipython3",
   "version": "3.6.3"
  }
 },
 "nbformat": 4,
 "nbformat_minor": 2
}
