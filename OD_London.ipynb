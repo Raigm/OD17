{
 "cells": [
  {
   "cell_type": "code",
   "execution_count": 1,
   "metadata": {
    "collapsed": true
   },
   "outputs": [],
   "source": [
    "import requests\n",
    "from lxml import etree\n",
    "import xml.etree.ElementTree as ET"
   ]
  },
  {
   "cell_type": "markdown",
   "metadata": {},
   "source": [
    "#1. Acceder a la página de datos abiertos de TfL y descargar ambos datasets a través de API."
   ]
  },
  {
   "cell_type": "code",
   "execution_count": 2,
   "metadata": {
    "collapsed": true
   },
   "outputs": [],
   "source": [
    "stations = requests.get(\"https://data.tfl.gov.uk/tfl/syndication/feeds/stations-facilities.xml?app_id=3c300fe8&app_key=4c8ac4128a27f1ba7b3e8bce8e099cc4\")\n",
    "step_free = requests.get(\"https://tfl.gov.uk/tfl/syndication/feeds/step-free-tube-guide.xml\")"
   ]
  },
  {
   "cell_type": "code",
   "execution_count": 3,
   "metadata": {
    "collapsed": true
   },
   "outputs": [],
   "source": [
    "with open('StationFacilities.xml', 'w') as f:\n",
    "    f.write(stations.text)"
   ]
  },
  {
   "cell_type": "code",
   "execution_count": 10,
   "metadata": {},
   "outputs": [
    {
     "ename": "TypeError",
     "evalue": "write() takes no keyword arguments",
     "output_type": "error",
     "traceback": [
      "\u001b[1;31m---------------------------------------------------------------------------\u001b[0m",
      "\u001b[1;31mTypeError\u001b[0m                                 Traceback (most recent call last)",
      "\u001b[1;32m<ipython-input-10-0b70fcd64d1f>\u001b[0m in \u001b[0;36m<module>\u001b[1;34m()\u001b[0m\n\u001b[0;32m      1\u001b[0m \u001b[1;32mwith\u001b[0m \u001b[0mopen\u001b[0m\u001b[1;33m(\u001b[0m\u001b[1;34m'StepFreeTube.xml'\u001b[0m\u001b[1;33m,\u001b[0m \u001b[1;34m'w'\u001b[0m\u001b[1;33m)\u001b[0m \u001b[1;32mas\u001b[0m \u001b[0mf\u001b[0m\u001b[1;33m:\u001b[0m\u001b[1;33m\u001b[0m\u001b[0m\n\u001b[1;32m----> 2\u001b[1;33m     \u001b[0mf\u001b[0m\u001b[1;33m.\u001b[0m\u001b[0mwrite\u001b[0m\u001b[1;33m(\u001b[0m\u001b[0mstep_free\u001b[0m\u001b[1;33m.\u001b[0m\u001b[0mtext\u001b[0m\u001b[1;33m,\u001b[0m \u001b[0mencoding\u001b[0m\u001b[1;33m=\u001b[0m\u001b[1;34m'ISO-8859-1'\u001b[0m\u001b[1;33m)\u001b[0m\u001b[1;33m\u001b[0m\u001b[0m\n\u001b[0m",
      "\u001b[1;31mTypeError\u001b[0m: write() takes no keyword arguments"
     ]
    }
   ],
   "source": [
    "with open('StepFreeTube.xml', 'w') as f:\n",
    "    f.write(step_free.text, encoding='ISO-8859-1')"
   ]
  },
  {
   "cell_type": "markdown",
   "metadata": {},
   "source": [
    "#2. Generar un fichero similar a a), denominado StationFacilitiesNOH, donde no se incorpore la información asociada a las etiquetas <openingHours>xxxx</openingHours>, ni las propias etiquetas.\n"
   ]
  },
  {
   "cell_type": "code",
   "execution_count": null,
   "metadata": {
    "collapsed": true
   },
   "outputs": [],
   "source": [
    "doc=etree.parse('StationFacilities.xml')#Importo Station facilities\n",
    "for elem in doc.xpath('.//openingHours'):\n",
    "   parent = elem.getparent()\n",
    "   parent.remove(elem)\n",
    "   print(etree.tostring(doc))\n",
    "   doc.write('StationFacilities_NOH.xml')\n"
   ]
  },
  {
   "cell_type": "markdown",
   "metadata": {},
   "source": [
    "#3. Generar un fichero similar a b), denominado StepFreeTubeNNone, que no debe incorporar la información asociada a las etiquetas <AccessibilityType>None</AccessibilityType> (ni las propias etiquetas) cuando el contenido sea None.\n"
   ]
  },
  {
   "cell_type": "code",
   "execution_count": null,
   "metadata": {
    "collapsed": true
   },
   "outputs": [],
   "source": [
    "doc2 = etree.parse('StepFreeTube.xml') \n",
    "for elem in doc2.xpath('.//*[attribute::AccesibilityTpye]'):\n",
    "    if elem.attrib['AccesibilityType']!='None':\n",
    "        elem.attrib.pop('AccesibilityType')\n",
    "    else:\n",
    "        parent = elem.getparent()\n",
    "        parent.remove(elem)\n",
    "    print(etree.tostring(doc2))\n",
    "    doc2.write('StepFreeTubeNNone.xml')\n"
   ]
  }
 ],
 "metadata": {
  "kernelspec": {
   "display_name": "Python 3",
   "language": "python",
   "name": "python3"
  },
  "language_info": {
   "codemirror_mode": {
    "name": "ipython",
    "version": 3
   },
   "file_extension": ".py",
   "mimetype": "text/x-python",
   "name": "python",
   "nbconvert_exporter": "python",
   "pygments_lexer": "ipython3",
   "version": "3.6.2"
  }
 },
 "nbformat": 4,
 "nbformat_minor": 2
}
